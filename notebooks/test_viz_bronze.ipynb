{
 "cells": [
  {
   "cell_type": "markdown",
   "id": "751fb011",
   "metadata": {},
   "source": [
    "# Test visualisation of the bronze test data."
   ]
  },
  {
   "cell_type": "code",
   "execution_count": 1,
   "id": "ae52430e",
   "metadata": {},
   "outputs": [],
   "source": [
    "import pandas as pd"
   ]
  },
  {
   "cell_type": "code",
   "execution_count": 2,
   "id": "e16d5e26",
   "metadata": {},
   "outputs": [
    {
     "name": "stdout",
     "output_type": "stream",
     "text": [
      "                   timestamp  air_temperature location_id crop_id\n",
      "0  2025-05-26 13:00:00+00:00             21.6    Belagavi   maize\n",
      "1  2025-05-26 14:00:00+00:00             21.2    Belagavi   maize\n",
      "2  2025-05-26 15:00:00+00:00             20.9    Belagavi   maize\n",
      "3  2025-05-26 16:00:00+00:00             21.1    Belagavi   maize\n",
      "4  2025-05-26 17:00:00+00:00             20.9    Belagavi   maize\n",
      "5  2025-05-26 18:00:00+00:00             20.7    Belagavi   maize\n",
      "6  2025-05-26 19:00:00+00:00             20.4    Belagavi   maize\n",
      "7  2025-05-26 20:00:00+00:00             20.3    Belagavi   maize\n",
      "8  2025-05-26 21:00:00+00:00             20.6    Belagavi   maize\n",
      "9  2025-05-26 22:00:00+00:00             20.6    Belagavi   maize\n",
      "10 2025-05-26 23:00:00+00:00             20.6    Belagavi   maize\n"
     ]
    }
   ],
   "source": [
    "data_belagavi = pd.read_parquet(\"../data/data_2025-05-26.parquet\")\n",
    "print(data_belagavi)"
   ]
  },
  {
   "cell_type": "code",
   "execution_count": null,
   "id": "data-completeness-check",
   "metadata": {},
   "outputs": [
    {
     "name": "stdout",
     "output_type": "stream",
     "text": [
      "WARNING: The loaded data for 2025-05-26 appears to be incomplete for a full day.\n",
      "  Expected 24 hourly records, but found 11.\n",
      "  Data currently loaded ranges from 13:00:00 to 23:00:00.\n",
      "  This means data before 13:00:00 on that day (e.g., 00:00-04:00) might be missing.\n",
      "  Consequently, the calculated daily T_min, T_max, and GDD might not be accurate for the entire day.\n"
     ]
    }
   ],
   "source": [
    "# Check for data completeness for the loaded day from the Parquet file.\n",
    "# Assumes the Parquet file is intended to contain hourly data for a single, full day.\n",
    "if not data_belagavi.empty:\n",
    "    expected_hourly_records = 24\n",
    "    actual_records = len(data_belagavi)\n",
    "\n",
    "    first_timestamp_in_data = data_belagavi[\"timestamp\"].min()\n",
    "    last_timestamp_in_data = data_belagavi[\"timestamp\"].max()\n",
    "\n",
    "    event_date = first_timestamp_in_data.date()\n",
    "\n",
    "    if actual_records < expected_hourly_records:\n",
    "        print(\n",
    "            f\"WARNING: The loaded data for {event_date} appears to be incomplete for a full day.\"\n",
    "        )\n",
    "        print(\n",
    "            f\"  Expected {expected_hourly_records} hourly records, but found {actual_records}.\"\n",
    "        )\n",
    "        print(\n",
    "            f\"  Data currently loaded ranges from {first_timestamp_in_data.time()} to {last_timestamp_in_data.time()}.\"\n",
    "        )\n",
    "        print(\n",
    "            f\"  This means data before {first_timestamp_in_data.time()} on that day might be missing.\"\n",
    "        )\n",
    "        print(\n",
    "            \"  Consequently, the calculated daily T_min, T_max, and GDD might not be accurate for the entire day.\"\n",
    "        )\n",
    "    elif actual_records == expected_hourly_records:\n",
    "        is_standard_hourly_range = (\n",
    "            first_timestamp_in_data.time() == pd.Timestamp(\"00:00:00\").time()\n",
    "            and last_timestamp_in_data.time() == pd.Timestamp(\"23:00:00\").time()\n",
    "        )\n",
    "        if is_standard_hourly_range:\n",
    "            print(\n",
    "                f\"Data for {event_date} appears complete: {actual_records} hourly records from 00:00 to 23:00.\"\n",
    "            )\n",
    "        else:\n",
    "            print(\n",
    "                f\"WARNING: Data for {event_date} has {actual_records} records, but the time range ({first_timestamp_in_data.time()} to {last_timestamp_in_data.time()}) is not the standard 00:00-23:00.\"\n",
    "            )\n",
    "            print(\n",
    "                \"  Please verify data integrity. This may affect daily T_min, T_max, and GDD calculations.\"\n",
    "            )\n",
    "    else:  # More than 24 records\n",
    "        print(\n",
    "            f\"INFO: For {event_date}, found {actual_records} records, which is more than the typical 24 hourly records.\"\n",
    "        )\n",
    "        print(\n",
    "            f\"  Data ranges from {first_timestamp_in_data.time()} to {last_timestamp_in_data.time()}.\"\n",
    "        )\n",
    "        print(\n",
    "            \"  Ensure this data granularity is appropriate for the GDD calculation method used.\"\n",
    "        )\n",
    "else:\n",
    "    print(\n",
    "        \"WARNING: The DataFrame `data_belagavi` is empty. No data to check or process.\"\n",
    "    )"
   ]
  },
  {
   "cell_type": "code",
   "execution_count": 4,
   "id": "6688441e",
   "metadata": {},
   "outputs": [
    {
     "name": "stdout",
     "output_type": "stream",
     "text": [
      "20.3\n",
      "21.6\n"
     ]
    }
   ],
   "source": [
    "data_belagavi_min = data_belagavi.air_temperature.min()\n",
    "print(data_belagavi_min)\n",
    "data_belagavi_max = data_belagavi.air_temperature.max()\n",
    "print(data_belagavi_max)"
   ]
  },
  {
   "cell_type": "markdown",
   "id": "142d8a2e",
   "metadata": {},
   "source": [
    "### GDD = ((T_max + T_min) / 2) - T_base\n",
    "T_base for maize and sorghum is 10 celsius.\n",
    "- T_base is dependent on variety of the plant in question, and may vary based on each variety's biological adaptability in spesific conditions.\n",
    "- Sorghum variety *sorghum bicolor* and maize "
   ]
  },
  {
   "cell_type": "code",
   "execution_count": 5,
   "id": "857e75f7",
   "metadata": {},
   "outputs": [
    {
     "name": "stdout",
     "output_type": "stream",
     "text": [
      "10.950000000000003\n"
     ]
    }
   ],
   "source": [
    "GDD_maize = ((data_belagavi_max + data_belagavi_min) / 2) - 10\n",
    "print(GDD_maize)"
   ]
  },
  {
   "cell_type": "code",
   "execution_count": 6,
   "id": "8f372928",
   "metadata": {},
   "outputs": [
    {
     "name": "stdout",
     "output_type": "stream",
     "text": [
      "10.950000000000003\n"
     ]
    }
   ],
   "source": [
    "T_base = 10\n",
    "avg_temp = (data_belagavi_max + data_belagavi_min) / 2\n",
    "\n",
    "if avg_temp < T_base:\n",
    "    GDD_maize = 0\n",
    "else:\n",
    "    GDD_maize = avg_temp - T_base\n",
    "\n",
    "print(GDD_maize)"
   ]
  },
  {
   "cell_type": "code",
   "execution_count": 7,
   "id": "4e9802a2",
   "metadata": {},
   "outputs": [
    {
     "name": "stdout",
     "output_type": "stream",
     "text": [
      "Index(['timestamp', 'air_temperature', 'location_id', 'crop_id'], dtype='object')\n"
     ]
    }
   ],
   "source": [
    "print(data_belagavi.columns)"
   ]
  },
  {
   "cell_type": "code",
   "execution_count": 8,
   "id": "dd3e7a01",
   "metadata": {},
   "outputs": [
    {
     "name": "stdout",
     "output_type": "stream",
     "text": [
      "<class 'pandas.core.frame.DataFrame'>\n",
      "RangeIndex: 11 entries, 0 to 10\n",
      "Data columns (total 4 columns):\n",
      " #   Column           Non-Null Count  Dtype              \n",
      "---  ------           --------------  -----              \n",
      " 0   timestamp        11 non-null     datetime64[ns, UTC]\n",
      " 1   air_temperature  11 non-null     float64            \n",
      " 2   location_id      11 non-null     object             \n",
      " 3   crop_id          11 non-null     object             \n",
      "dtypes: datetime64[ns, UTC](1), float64(1), object(2)\n",
      "memory usage: 484.0+ bytes\n"
     ]
    }
   ],
   "source": [
    "data_belagavi.info()"
   ]
  },
  {
   "cell_type": "code",
   "execution_count": 9,
   "id": "f7adf04b",
   "metadata": {},
   "outputs": [
    {
     "data": {
      "text/html": [
       "<div>\n",
       "<style scoped>\n",
       "    .dataframe tbody tr th:only-of-type {\n",
       "        vertical-align: middle;\n",
       "    }\n",
       "\n",
       "    .dataframe tbody tr th {\n",
       "        vertical-align: top;\n",
       "    }\n",
       "\n",
       "    .dataframe thead th {\n",
       "        text-align: right;\n",
       "    }\n",
       "</style>\n",
       "<table border=\"1\" class=\"dataframe\">\n",
       "  <thead>\n",
       "    <tr style=\"text-align: right;\">\n",
       "      <th></th>\n",
       "      <th>air_temperature</th>\n",
       "    </tr>\n",
       "  </thead>\n",
       "  <tbody>\n",
       "    <tr>\n",
       "      <th>count</th>\n",
       "      <td>11.000000</td>\n",
       "    </tr>\n",
       "    <tr>\n",
       "      <th>mean</th>\n",
       "      <td>20.809091</td>\n",
       "    </tr>\n",
       "    <tr>\n",
       "      <th>std</th>\n",
       "      <td>0.380669</td>\n",
       "    </tr>\n",
       "    <tr>\n",
       "      <th>min</th>\n",
       "      <td>20.300000</td>\n",
       "    </tr>\n",
       "    <tr>\n",
       "      <th>25%</th>\n",
       "      <td>20.600000</td>\n",
       "    </tr>\n",
       "    <tr>\n",
       "      <th>50%</th>\n",
       "      <td>20.700000</td>\n",
       "    </tr>\n",
       "    <tr>\n",
       "      <th>75%</th>\n",
       "      <td>21.000000</td>\n",
       "    </tr>\n",
       "    <tr>\n",
       "      <th>max</th>\n",
       "      <td>21.600000</td>\n",
       "    </tr>\n",
       "  </tbody>\n",
       "</table>\n",
       "</div>"
      ],
      "text/plain": [
       "       air_temperature\n",
       "count        11.000000\n",
       "mean         20.809091\n",
       "std           0.380669\n",
       "min          20.300000\n",
       "25%          20.600000\n",
       "50%          20.700000\n",
       "75%          21.000000\n",
       "max          21.600000"
      ]
     },
     "execution_count": 9,
     "metadata": {},
     "output_type": "execute_result"
    }
   ],
   "source": [
    "data_belagavi.describe()"
   ]
  },
  {
   "cell_type": "code",
   "execution_count": 10,
   "id": "9e6f8a2d",
   "metadata": {},
   "outputs": [
    {
     "name": "stdout",
     "output_type": "stream",
     "text": [
      "          day  count\n",
      "0  2025-05-26     11\n"
     ]
    }
   ],
   "source": [
    "# Group by day and count the number of entries\n",
    "data_belagavi[\"timestamp\"] = pd.to_datetime(data_belagavi[\"timestamp\"])\n",
    "data_belagavi[\"day\"] = data_belagavi[\"timestamp\"].dt.date\n",
    "data_belagavi_days = data_belagavi.groupby(\"day\").size().reset_index(name=\"count\")\n",
    "print(data_belagavi_days)"
   ]
  }
 ],
 "metadata": {
  "kernelspec": {
   "display_name": "gdd-app-OCs99Jn6-py3.12",
   "language": "python",
   "name": "python3"
  },
  "language_info": {
   "codemirror_mode": {
    "name": "ipython",
    "version": 3
   },
   "file_extension": ".py",
   "mimetype": "text/x-python",
   "name": "python",
   "nbconvert_exporter": "python",
   "pygments_lexer": "ipython3",
   "version": "3.12.3"
  }
 },
 "nbformat": 4,
 "nbformat_minor": 5
}
